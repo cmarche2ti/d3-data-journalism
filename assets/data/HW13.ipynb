{
 "cells": [
  {
   "cell_type": "code",
   "execution_count": 1,
   "metadata": {},
   "outputs": [],
   "source": [
    "import pandas as pd\n",
    "import numpy as np\n",
    "import matplotlib.pyplot as plt"
   ]
  },
  {
   "cell_type": "code",
   "execution_count": 2,
   "metadata": {},
   "outputs": [],
   "source": [
    "%matplotlib inline"
   ]
  },
  {
   "cell_type": "code",
   "execution_count": 3,
   "metadata": {},
   "outputs": [],
   "source": [
    "df = pd.read_csv(\"data.csv\")"
   ]
  },
  {
   "cell_type": "code",
   "execution_count": 4,
   "metadata": {},
   "outputs": [
    {
     "data": {
      "text/html": [
       "<div>\n",
       "<style scoped>\n",
       "    .dataframe tbody tr th:only-of-type {\n",
       "        vertical-align: middle;\n",
       "    }\n",
       "\n",
       "    .dataframe tbody tr th {\n",
       "        vertical-align: top;\n",
       "    }\n",
       "\n",
       "    .dataframe thead th {\n",
       "        text-align: right;\n",
       "    }\n",
       "</style>\n",
       "<table border=\"1\" class=\"dataframe\">\n",
       "  <thead>\n",
       "    <tr style=\"text-align: right;\">\n",
       "      <th></th>\n",
       "      <th>id</th>\n",
       "      <th>state</th>\n",
       "      <th>abbr</th>\n",
       "      <th>poverty</th>\n",
       "      <th>povertyMoe</th>\n",
       "      <th>age</th>\n",
       "      <th>ageMoe</th>\n",
       "      <th>income</th>\n",
       "      <th>incomeMoe</th>\n",
       "      <th>healthcare</th>\n",
       "      <th>healthcareLow</th>\n",
       "      <th>healthcareHigh</th>\n",
       "      <th>obesity</th>\n",
       "      <th>obesityLow</th>\n",
       "      <th>obesityHigh</th>\n",
       "      <th>smokes</th>\n",
       "      <th>smokesLow</th>\n",
       "      <th>smokesHigh</th>\n",
       "      <th>-0.385218228</th>\n",
       "    </tr>\n",
       "  </thead>\n",
       "  <tbody>\n",
       "    <tr>\n",
       "      <th>0</th>\n",
       "      <td>1</td>\n",
       "      <td>Alabama</td>\n",
       "      <td>AL</td>\n",
       "      <td>19.3</td>\n",
       "      <td>0.5</td>\n",
       "      <td>38.6</td>\n",
       "      <td>0.2</td>\n",
       "      <td>42830</td>\n",
       "      <td>598</td>\n",
       "      <td>13.9</td>\n",
       "      <td>12.7</td>\n",
       "      <td>15.1</td>\n",
       "      <td>33.5</td>\n",
       "      <td>32.1</td>\n",
       "      <td>35.0</td>\n",
       "      <td>21.1</td>\n",
       "      <td>19.8</td>\n",
       "      <td>22.5</td>\n",
       "      <td>NaN</td>\n",
       "    </tr>\n",
       "    <tr>\n",
       "      <th>1</th>\n",
       "      <td>2</td>\n",
       "      <td>Alaska</td>\n",
       "      <td>AK</td>\n",
       "      <td>11.2</td>\n",
       "      <td>0.9</td>\n",
       "      <td>33.3</td>\n",
       "      <td>0.3</td>\n",
       "      <td>71583</td>\n",
       "      <td>1784</td>\n",
       "      <td>15.0</td>\n",
       "      <td>13.3</td>\n",
       "      <td>16.6</td>\n",
       "      <td>29.7</td>\n",
       "      <td>27.8</td>\n",
       "      <td>31.6</td>\n",
       "      <td>19.9</td>\n",
       "      <td>18.2</td>\n",
       "      <td>21.6</td>\n",
       "      <td>NaN</td>\n",
       "    </tr>\n",
       "    <tr>\n",
       "      <th>2</th>\n",
       "      <td>4</td>\n",
       "      <td>Arizona</td>\n",
       "      <td>AZ</td>\n",
       "      <td>18.2</td>\n",
       "      <td>0.4</td>\n",
       "      <td>36.9</td>\n",
       "      <td>0.1</td>\n",
       "      <td>50068</td>\n",
       "      <td>483</td>\n",
       "      <td>14.4</td>\n",
       "      <td>13.3</td>\n",
       "      <td>15.6</td>\n",
       "      <td>28.9</td>\n",
       "      <td>27.7</td>\n",
       "      <td>30.2</td>\n",
       "      <td>16.5</td>\n",
       "      <td>15.4</td>\n",
       "      <td>17.6</td>\n",
       "      <td>NaN</td>\n",
       "    </tr>\n",
       "    <tr>\n",
       "      <th>3</th>\n",
       "      <td>5</td>\n",
       "      <td>Arkansas</td>\n",
       "      <td>AR</td>\n",
       "      <td>18.9</td>\n",
       "      <td>0.5</td>\n",
       "      <td>37.8</td>\n",
       "      <td>0.2</td>\n",
       "      <td>41262</td>\n",
       "      <td>653</td>\n",
       "      <td>16.3</td>\n",
       "      <td>14.4</td>\n",
       "      <td>18.2</td>\n",
       "      <td>35.9</td>\n",
       "      <td>33.8</td>\n",
       "      <td>38.0</td>\n",
       "      <td>24.7</td>\n",
       "      <td>22.7</td>\n",
       "      <td>26.7</td>\n",
       "      <td>NaN</td>\n",
       "    </tr>\n",
       "    <tr>\n",
       "      <th>4</th>\n",
       "      <td>6</td>\n",
       "      <td>California</td>\n",
       "      <td>CA</td>\n",
       "      <td>16.4</td>\n",
       "      <td>0.2</td>\n",
       "      <td>36.0</td>\n",
       "      <td>0.1</td>\n",
       "      <td>61933</td>\n",
       "      <td>238</td>\n",
       "      <td>14.8</td>\n",
       "      <td>13.8</td>\n",
       "      <td>15.8</td>\n",
       "      <td>24.7</td>\n",
       "      <td>23.5</td>\n",
       "      <td>25.9</td>\n",
       "      <td>12.9</td>\n",
       "      <td>11.9</td>\n",
       "      <td>13.8</td>\n",
       "      <td>NaN</td>\n",
       "    </tr>\n",
       "  </tbody>\n",
       "</table>\n",
       "</div>"
      ],
      "text/plain": [
       "   id       state abbr  poverty  povertyMoe   age  ageMoe  income  incomeMoe  \\\n",
       "0   1     Alabama   AL     19.3         0.5  38.6     0.2   42830        598   \n",
       "1   2      Alaska   AK     11.2         0.9  33.3     0.3   71583       1784   \n",
       "2   4     Arizona   AZ     18.2         0.4  36.9     0.1   50068        483   \n",
       "3   5    Arkansas   AR     18.9         0.5  37.8     0.2   41262        653   \n",
       "4   6  California   CA     16.4         0.2  36.0     0.1   61933        238   \n",
       "\n",
       "   healthcare  healthcareLow  healthcareHigh  obesity  obesityLow  \\\n",
       "0        13.9           12.7            15.1     33.5        32.1   \n",
       "1        15.0           13.3            16.6     29.7        27.8   \n",
       "2        14.4           13.3            15.6     28.9        27.7   \n",
       "3        16.3           14.4            18.2     35.9        33.8   \n",
       "4        14.8           13.8            15.8     24.7        23.5   \n",
       "\n",
       "   obesityHigh  smokes  smokesLow  smokesHigh  -0.385218228  \n",
       "0         35.0    21.1       19.8        22.5           NaN  \n",
       "1         31.6    19.9       18.2        21.6           NaN  \n",
       "2         30.2    16.5       15.4        17.6           NaN  \n",
       "3         38.0    24.7       22.7        26.7           NaN  \n",
       "4         25.9    12.9       11.9        13.8           NaN  "
      ]
     },
     "execution_count": 4,
     "metadata": {},
     "output_type": "execute_result"
    }
   ],
   "source": [
    "df.head()"
   ]
  },
  {
   "cell_type": "code",
   "execution_count": 4,
   "metadata": {},
   "outputs": [
    {
     "data": {
      "text/plain": [
       "Index(['id', 'state', 'abbr', 'poverty', 'povertyMoe', 'age', 'ageMoe',\n",
       "       'income', 'incomeMoe', 'healthcare', 'healthcareLow', 'healthcareHigh',\n",
       "       'obesity', 'obesityLow', 'obesityHigh', 'smokes', 'smokesLow',\n",
       "       'smokesHigh', '-0.385218228'],\n",
       "      dtype='object')"
      ]
     },
     "execution_count": 4,
     "metadata": {},
     "output_type": "execute_result"
    }
   ],
   "source": [
    "df.columns"
   ]
  },
  {
   "cell_type": "code",
   "execution_count": 10,
   "metadata": {},
   "outputs": [],
   "source": [
    "x = df['poverty']\n",
    "y = df['smokes']"
   ]
  },
  {
   "cell_type": "code",
   "execution_count": 11,
   "metadata": {},
   "outputs": [
    {
     "data": {
      "text/plain": [
       "<matplotlib.collections.PathCollection at 0x11d697748>"
      ]
     },
     "execution_count": 11,
     "metadata": {},
     "output_type": "execute_result"
    },
    {
     "data": {
      "image/png": "[encoded data removed]",
      "text/plain": [
       "<Figure size 432x288 with 1 Axes>"
      ]
     },
     "metadata": {
      "needs_background": "light"
     },
     "output_type": "display_data"
    }
   ],
   "source": [
    "fig = plt.figure()\n",
    "axes = fig.add_axes([0.1,0.1,0.8,0.8])\n",
    "axes.scatter(x, y)"
   ]
  },
  {
   "cell_type": "code",
   "execution_count": null,
   "metadata": {},
   "outputs": [],
   "source": []
  }
 ],
 "metadata": {
  "kernelspec": {
   "display_name": "Python 3",
   "language": "python",
   "name": "python3"
  },
  "language_info": {
   "codemirror_mode": {
    "name": "ipython",
    "version": 3
   },
   "file_extension": ".py",
   "mimetype": "text/x-python",
   "name": "python",
   "nbconvert_exporter": "python",
   "pygments_lexer": "ipython3",
   "version": "3.7.3"
  }
 },
 "nbformat": 4,
 "nbformat_minor": 2
}
